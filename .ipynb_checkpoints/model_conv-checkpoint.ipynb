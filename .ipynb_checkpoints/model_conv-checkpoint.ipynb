{
 "cells": [
  {
   "cell_type": "markdown",
   "metadata": {},
   "source": [
    "# MNIST sign language classification"
   ]
  },
  {
   "cell_type": "code",
   "execution_count": 1,
   "metadata": {},
   "outputs": [],
   "source": [
    "%matplotlib inline"
   ]
  },
  {
   "cell_type": "code",
   "execution_count": 2,
   "metadata": {},
   "outputs": [],
   "source": [
    "import numpy as np\n",
    "import matplotlib.pyplot as plt"
   ]
  },
  {
   "cell_type": "code",
   "execution_count": 3,
   "metadata": {},
   "outputs": [
    {
     "name": "stderr",
     "output_type": "stream",
     "text": [
      "Using TensorFlow backend.\n"
     ]
    }
   ],
   "source": [
    "from keras.models import Sequential\n",
    "from keras import layers\n",
    "from keras import regularizers\n",
    "from keras.utils import to_categorical"
   ]
  },
  {
   "cell_type": "markdown",
   "metadata": {},
   "source": [
    "## Get the data"
   ]
  },
  {
   "cell_type": "code",
   "execution_count": 4,
   "metadata": {},
   "outputs": [],
   "source": [
    "path = 'data/'"
   ]
  },
  {
   "cell_type": "code",
   "execution_count": 5,
   "metadata": {},
   "outputs": [
    {
     "name": "stdout",
     "output_type": "stream",
     "text": [
      "amer_sign2.png\tamerican_sign_language.PNG  sign_mnist_train.csv\r\n",
      "amer_sign3.png\tsign_mnist_test.csv\r\n"
     ]
    }
   ],
   "source": [
    "!ls {path}"
   ]
  },
  {
   "cell_type": "code",
   "execution_count": 6,
   "metadata": {},
   "outputs": [],
   "source": [
    "train_data = np.genfromtxt(f'{path}sign_mnist_train.csv',\n",
    "                           delimiter=',',\n",
    "                           skip_header=1,\n",
    "                           dtype='float32')\n",
    "\n",
    "test_data = np.genfromtxt(f'{path}sign_mnist_test.csv',\n",
    "                          delimiter=',',\n",
    "                          skip_header=1,\n",
    "                          dtype='float32')"
   ]
  },
  {
   "cell_type": "markdown",
   "metadata": {},
   "source": [
    "## Separate features and labels"
   ]
  },
  {
   "cell_type": "code",
   "execution_count": 7,
   "metadata": {},
   "outputs": [],
   "source": [
    "# randomly shuffle the data\n",
    "np.random.shuffle(train_data)"
   ]
  },
  {
   "cell_type": "code",
   "execution_count": 8,
   "metadata": {},
   "outputs": [],
   "source": [
    "x_train, y_train = train_data[:,1:].copy(), \\\n",
    "                   train_data[:,0].copy()\n",
    "\n",
    "x_test, y_test = test_data[:,1:].copy(), \\\n",
    "                 test_data[:,0].copy()"
   ]
  },
  {
   "cell_type": "markdown",
   "metadata": {},
   "source": [
    "### plot a single image"
   ]
  },
  {
   "cell_type": "code",
   "execution_count": 9,
   "metadata": {},
   "outputs": [
    {
     "data": {
      "text/plain": [
       "<matplotlib.image.AxesImage at 0x7f3bb55e8a20>"
      ]
     },
     "execution_count": 9,
     "metadata": {},
     "output_type": "execute_result"
    },
    {
     "data": {
      "image/png": "[encoded data removed]",
      "text/plain": [
       "<Figure size 432x288 with 1 Axes>"
      ]
     },
     "metadata": {},
     "output_type": "display_data"
    }
   ],
   "source": [
    "sign = x_train[5].copy()\n",
    "sign = sign.reshape((28,28))\n",
    "plt.imshow(sign, cmap=plt.cm.binary)"
   ]
  },
  {
   "cell_type": "markdown",
   "metadata": {},
   "source": [
    "## Data preprocessing"
   ]
  },
  {
   "cell_type": "markdown",
   "metadata": {},
   "source": [
    "### reshape image into 28 * 28 matrix and normalize the pixel values"
   ]
  },
  {
   "cell_type": "code",
   "execution_count": 10,
   "metadata": {},
   "outputs": [],
   "source": [
    "x_train = x_train.reshape((len(x_train), 28, 28, 1)) \n",
    "x_train = x_train.astype('float32') / 255\n",
    "\n",
    "x_test = x_test.reshape((len(x_test), 28, 28, 1))\n",
    "x_test = x_test.astype('float32') / 255"
   ]
  },
  {
   "cell_type": "code",
   "execution_count": 11,
   "metadata": {},
   "outputs": [
    {
     "data": {
      "text/plain": [
       "((27455, 28, 28, 1), (7172, 28, 28, 1))"
      ]
     },
     "execution_count": 11,
     "metadata": {},
     "output_type": "execute_result"
    }
   ],
   "source": [
    "x_train.shape, x_test.shape"
   ]
  },
  {
   "cell_type": "markdown",
   "metadata": {},
   "source": [
    "### one-hot encode the labels"
   ]
  },
  {
   "cell_type": "code",
   "execution_count": 12,
   "metadata": {},
   "outputs": [],
   "source": [
    "y_train = to_categorical(y_train)\n",
    "y_test = to_categorical(y_test)"
   ]
  },
  {
   "cell_type": "code",
   "execution_count": 13,
   "metadata": {},
   "outputs": [
    {
     "data": {
      "text/plain": [
       "((27455, 25), (7172, 25))"
      ]
     },
     "execution_count": 13,
     "metadata": {},
     "output_type": "execute_result"
    }
   ],
   "source": [
    "y_train.shape, y_test.shape"
   ]
  },
  {
   "cell_type": "markdown",
   "metadata": {},
   "source": [
    "### create validation set"
   ]
  },
  {
   "cell_type": "code",
   "execution_count": 14,
   "metadata": {},
   "outputs": [
    {
     "data": {
      "text/plain": [
       "5491"
      ]
     },
     "execution_count": 14,
     "metadata": {},
     "output_type": "execute_result"
    }
   ],
   "source": [
    "n_vals = int(0.2*x_train.shape[0])\n",
    "n_vals"
   ]
  },
  {
   "cell_type": "code",
   "execution_count": 15,
   "metadata": {},
   "outputs": [],
   "source": [
    "x_val, y_val = x_train[:n_vals], y_train[:n_vals]\n",
    "x_train, y_train = x_train[n_vals:], y_train[n_vals:]"
   ]
  },
  {
   "cell_type": "markdown",
   "metadata": {},
   "source": [
    "## Create model"
   ]
  },
  {
   "cell_type": "code",
   "execution_count": 34,
   "metadata": {},
   "outputs": [],
   "source": [
    "model = Sequential([\n",
    "    layers.Conv2D(32, (3,3), activation='relu', input_shape=(28, 28, 1)),\n",
    "    layers.MaxPooling2D((2, 2)),\n",
    "    layers.Conv2D(64, (3,3), activation='relu'),\n",
    "    layers.MaxPooling2D((2, 2)),\n",
    "    layers.Conv2D(64, (3,3), activation='relu'),\n",
    "    layers.MaxPooling2D((2, 2)),\n",
    "    layers.Flatten(),\n",
    "    layers.Dense(100, activation='relu'),\n",
    "    layers.Dense(y_train.shape[1], activation='softmax')\n",
    "])"
   ]
  },
  {
   "cell_type": "code",
   "execution_count": 35,
   "metadata": {},
   "outputs": [],
   "source": [
    "model.compile(optimizer='rmsprop',\n",
    "              loss='categorical_crossentropy',\n",
    "              metrics=['acc'])"
   ]
  },
  {
   "cell_type": "code",
   "execution_count": 36,
   "metadata": {},
   "outputs": [
    {
     "name": "stdout",
     "output_type": "stream",
     "text": [
      "Train on 21964 samples, validate on 5491 samples\n",
      "Epoch 1/30\n",
      "21964/21964 [==============================] - 9s 400us/step - loss: 2.6831 - acc: 0.1868 - val_loss: 2.3355 - val_acc: 0.2453\n",
      "Epoch 2/30\n",
      "21964/21964 [==============================] - 9s 399us/step - loss: 1.6584 - acc: 0.4639 - val_loss: 1.3360 - val_acc: 0.5706\n",
      "Epoch 3/30\n",
      "21964/21964 [==============================] - 8s 380us/step - loss: 1.0844 - acc: 0.6449 - val_loss: 0.8092 - val_acc: 0.7581\n",
      "Epoch 4/30\n",
      "21964/21964 [==============================] - 8s 371us/step - loss: 0.6915 - acc: 0.7738 - val_loss: 0.5638 - val_acc: 0.8213\n",
      "Epoch 5/30\n",
      "21964/21964 [==============================] - 9s 388us/step - loss: 0.4446 - acc: 0.8562 - val_loss: 0.3890 - val_acc: 0.8794\n",
      "Epoch 6/30\n",
      "21964/21964 [==============================] - 8s 377us/step - loss: 0.2868 - acc: 0.9097 - val_loss: 0.3119 - val_acc: 0.9060\n",
      "Epoch 7/30\n",
      "21964/21964 [==============================] - 8s 374us/step - loss: 0.1745 - acc: 0.9476 - val_loss: 0.0855 - val_acc: 0.9825\n",
      "Epoch 8/30\n",
      "21964/21964 [==============================] - 8s 380us/step - loss: 0.1117 - acc: 0.9689 - val_loss: 0.0439 - val_acc: 0.9934\n",
      "Epoch 9/30\n",
      "21964/21964 [==============================] - 8s 374us/step - loss: 0.0676 - acc: 0.9828 - val_loss: 0.0425 - val_acc: 0.9900\n",
      "Epoch 10/30\n",
      "21964/21964 [==============================] - 8s 381us/step - loss: 0.0470 - acc: 0.9879 - val_loss: 0.0097 - val_acc: 0.9995\n",
      "Epoch 11/30\n",
      "21964/21964 [==============================] - 8s 379us/step - loss: 0.0400 - acc: 0.9898 - val_loss: 0.0084 - val_acc: 0.9996\n",
      "Epoch 12/30\n",
      "21964/21964 [==============================] - 8s 383us/step - loss: 0.0325 - acc: 0.9922 - val_loss: 0.2913 - val_acc: 0.9131\n",
      "Epoch 13/30\n",
      "21964/21964 [==============================] - 8s 382us/step - loss: 0.0271 - acc: 0.9927 - val_loss: 0.0030 - val_acc: 0.9998\n",
      "Epoch 14/30\n",
      "21964/21964 [==============================] - 8s 381us/step - loss: 0.0262 - acc: 0.9929 - val_loss: 0.0642 - val_acc: 0.9792\n",
      "Epoch 15/30\n",
      "21964/21964 [==============================] - 8s 383us/step - loss: 0.0292 - acc: 0.9929 - val_loss: 0.0022 - val_acc: 1.0000\n",
      "Epoch 16/30\n",
      "21964/21964 [==============================] - 8s 376us/step - loss: 0.0239 - acc: 0.9943 - val_loss: 0.0026 - val_acc: 0.9998\n",
      "Epoch 17/30\n",
      "21964/21964 [==============================] - 8s 380us/step - loss: 0.0178 - acc: 0.9956 - val_loss: 0.0020 - val_acc: 0.9998\n",
      "Epoch 18/30\n",
      "21964/21964 [==============================] - 8s 376us/step - loss: 0.0206 - acc: 0.9959 - val_loss: 0.0023 - val_acc: 0.9998\n",
      "Epoch 19/30\n",
      "21964/21964 [==============================] - 8s 375us/step - loss: 0.0145 - acc: 0.9959 - val_loss: 0.0572 - val_acc: 0.9823\n",
      "Epoch 20/30\n",
      "21964/21964 [==============================] - 8s 383us/step - loss: 0.0125 - acc: 0.9975 - val_loss: 5.7880e-04 - val_acc: 1.0000\n",
      "Epoch 21/30\n",
      "21964/21964 [==============================] - 8s 387us/step - loss: 0.0158 - acc: 0.9963 - val_loss: 5.0691e-04 - val_acc: 1.0000\n",
      "Epoch 22/30\n",
      "21964/21964 [==============================] - 9s 391us/step - loss: 0.0149 - acc: 0.9967 - val_loss: 0.0010 - val_acc: 0.9996\n",
      "Epoch 23/30\n",
      "21964/21964 [==============================] - 8s 380us/step - loss: 0.0177 - acc: 0.9963 - val_loss: 0.0017 - val_acc: 0.9998\n",
      "Epoch 24/30\n",
      "21964/21964 [==============================] - 8s 371us/step - loss: 0.0069 - acc: 0.9985 - val_loss: 4.8637e-04 - val_acc: 0.9998\n",
      "Epoch 25/30\n",
      "21964/21964 [==============================] - 9s 391us/step - loss: 0.0157 - acc: 0.9964 - val_loss: 0.0023 - val_acc: 0.9995\n",
      "Epoch 26/30\n",
      "21964/21964 [==============================] - 8s 373us/step - loss: 0.0059 - acc: 0.9984 - val_loss: 0.0011 - val_acc: 0.9996\n",
      "Epoch 27/30\n",
      "21964/21964 [==============================] - 8s 384us/step - loss: 0.0132 - acc: 0.9976 - val_loss: 2.2072e-04 - val_acc: 1.0000\n",
      "Epoch 28/30\n",
      "21964/21964 [==============================] - 9s 388us/step - loss: 0.0142 - acc: 0.9982 - val_loss: 2.5901e-04 - val_acc: 1.0000\n",
      "Epoch 29/30\n",
      "21964/21964 [==============================] - 8s 384us/step - loss: 0.0071 - acc: 0.9987 - val_loss: 1.2207e-04 - val_acc: 1.0000\n",
      "Epoch 30/30\n",
      "21964/21964 [==============================] - 8s 373us/step - loss: 0.0138 - acc: 0.9976 - val_loss: 7.1097e-04 - val_acc: 0.9998\n"
     ]
    }
   ],
   "source": [
    "history = model.fit(x_train, y_train, \n",
    "                    batch_size=128, epochs=30,\n",
    "                    validation_data=(x_val, y_val))"
   ]
  },
  {
   "cell_type": "markdown",
   "metadata": {},
   "source": [
    "## Loss and accuracy curves"
   ]
  },
  {
   "cell_type": "code",
   "execution_count": 37,
   "metadata": {},
   "outputs": [],
   "source": [
    "history_dict = history.history\n",
    "\n",
    "training_loss = history_dict['loss']\n",
    "training_acc = history_dict['acc']\n",
    "\n",
    "val_loss = history_dict['val_loss']\n",
    "val_acc = history_dict['val_acc']\n",
    "\n",
    "epochs = range(1, len(val_acc) + 1)"
   ]
  },
  {
   "cell_type": "markdown",
   "metadata": {},
   "source": [
    "### Training and validation loss"
   ]
  },
  {
   "cell_type": "code",
   "execution_count": 38,
   "metadata": {},
   "outputs": [
    {
     "data": {
      "image/png": "[encoded data removed]",
      "text/plain": [
       "<Figure size 432x288 with 1 Axes>"
      ]
     },
     "metadata": {},
     "output_type": "display_data"
    }
   ],
   "source": [
    "plt.plot(epochs, training_loss, 'bo', label='Training loss')\n",
    "plt.plot(epochs, val_loss, 'b', label='Validation loss')\n",
    "\n",
    "plt.title('Training and validation loss')\n",
    "plt.xlabel('Epochs')\n",
    "plt.ylabel('Loss')\n",
    "plt.legend()\n",
    "\n",
    "plt.show()"
   ]
  },
  {
   "cell_type": "markdown",
   "metadata": {},
   "source": [
    "### Training and validation accuracy"
   ]
  },
  {
   "cell_type": "code",
   "execution_count": 39,
   "metadata": {},
   "outputs": [
    {
     "data": {
      "image/png": "[encoded data removed]",
      "text/plain": [
       "<Figure size 432x288 with 1 Axes>"
      ]
     },
     "metadata": {},
     "output_type": "display_data"
    }
   ],
   "source": [
    "plt.plot(epochs, training_acc, 'bo', label='Training accuracy')\n",
    "plt.plot(epochs, val_acc, 'b', label='Validation accuracy')\n",
    "\n",
    "plt.legend('Training and validation accuracy')\n",
    "plt.xlabel('Epochs')\n",
    "plt.ylabel('Accuracy')\n",
    "plt.legend()\n",
    "\n",
    "plt.show()"
   ]
  },
  {
   "cell_type": "markdown",
   "metadata": {},
   "source": [
    "## Evaluate model on test set"
   ]
  },
  {
   "cell_type": "code",
   "execution_count": 40,
   "metadata": {},
   "outputs": [
    {
     "name": "stdout",
     "output_type": "stream",
     "text": [
      "7172/7172 [==============================] - 1s 136us/step\n"
     ]
    },
    {
     "data": {
      "text/plain": [
       "0.9060234244283324"
      ]
     },
     "execution_count": 40,
     "metadata": {},
     "output_type": "execute_result"
    }
   ],
   "source": [
    "test_loss, test_acc = model.evaluate(x_test, y_test)\n",
    "test_acc"
   ]
  },
  {
   "cell_type": "code",
   "execution_count": 41,
   "metadata": {},
   "outputs": [],
   "source": [
    "model.save('model1.h5')"
   ]
  },
  {
   "cell_type": "markdown",
   "metadata": {},
   "source": [
    "## Apply regularization techniques"
   ]
  },
  {
   "cell_type": "code",
   "execution_count": 23,
   "metadata": {},
   "outputs": [],
   "source": [
    "model = Sequential([\n",
    "    layers.Conv2D(32, (3,3), activation='relu', \n",
    "                  input_shape=(28, 28, 1),\n",
    "                  padding='same'),\n",
    "    layers.BatchNormalization(),\n",
    "    layers.Conv2D(32, (3,3), activation='relu', \n",
    "                  input_shape=(28, 28, 1)),\n",
    "    layers.BatchNormalization(),\n",
    "    layers.MaxPooling2D((2, 2)),\n",
    "    layers.Dropout(0.5),\n",
    "    layers.Conv2D(64, (3,3), activation='relu',\n",
    "                  padding='same'),\n",
    "    layers.BatchNormalization(),\n",
    "    layers.Conv2D(64, (3,3), activation='relu'),\n",
    "    layers.BatchNormalization(),\n",
    "    layers.MaxPooling2D((2, 2)),\n",
    "    layers.Dropout(0.5),\n",
    "    layers.Conv2D(128, (3,3), activation='relu'),\n",
    "    layers.MaxPooling2D((2, 2)),\n",
    "    layers.Flatten(),\n",
    "    layers.Dense(100, activation='relu'),\n",
    "    layers.Dense(y_train.shape[1], activation='softmax')\n",
    "])"
   ]
  },
  {
   "cell_type": "code",
   "execution_count": 24,
   "metadata": {},
   "outputs": [],
   "source": [
    "model.compile(optimizer='rmsprop',\n",
    "              loss='categorical_crossentropy',\n",
    "              metrics=['acc'])"
   ]
  },
  {
   "cell_type": "code",
   "execution_count": 25,
   "metadata": {},
   "outputs": [
    {
     "name": "stdout",
     "output_type": "stream",
     "text": [
      "Train on 21964 samples, validate on 5491 samples\n",
      "Epoch 1/20\n",
      "21964/21964 [==============================] - 141s 6ms/step - loss: 1.2898 - acc: 0.5865 - val_loss: 0.2555 - val_acc: 0.9230\n",
      "Epoch 2/20\n",
      "21964/21964 [==============================] - 127s 6ms/step - loss: 0.2381 - acc: 0.9179 - val_loss: 0.0308 - val_acc: 0.9933\n",
      "Epoch 3/20\n",
      "21964/21964 [==============================] - 127s 6ms/step - loss: 0.0876 - acc: 0.9709 - val_loss: 0.0350 - val_acc: 0.9900\n",
      "Epoch 4/20\n",
      "21964/21964 [==============================] - 126s 6ms/step - loss: 0.0538 - acc: 0.9827 - val_loss: 0.0092 - val_acc: 0.9969\n",
      "Epoch 5/20\n",
      "21964/21964 [==============================] - 125s 6ms/step - loss: 0.0349 - acc: 0.9885 - val_loss: 0.0289 - val_acc: 0.9914\n",
      "Epoch 6/20\n",
      "21964/21964 [==============================] - 125s 6ms/step - loss: 0.0280 - acc: 0.9914 - val_loss: 0.0034 - val_acc: 0.9991\n",
      "Epoch 7/20\n",
      "21964/21964 [==============================] - 132s 6ms/step - loss: 0.0245 - acc: 0.9919 - val_loss: 0.0093 - val_acc: 0.9965\n",
      "Epoch 8/20\n",
      "21964/21964 [==============================] - 134s 6ms/step - loss: 0.0234 - acc: 0.9926 - val_loss: 0.0212 - val_acc: 0.9920\n",
      "Epoch 9/20\n",
      "21964/21964 [==============================] - 131s 6ms/step - loss: 0.0184 - acc: 0.9941 - val_loss: 0.0108 - val_acc: 0.9971\n",
      "Epoch 10/20\n",
      "21964/21964 [==============================] - 102s 5ms/step - loss: 0.0162 - acc: 0.9947 - val_loss: 2.8449e-04 - val_acc: 1.0000\n",
      "Epoch 11/20\n",
      "21964/21964 [==============================] - 93s 4ms/step - loss: 0.0146 - acc: 0.9950 - val_loss: 5.1496e-04 - val_acc: 0.9998\n",
      "Epoch 12/20\n",
      "21964/21964 [==============================] - 146s 7ms/step - loss: 0.0140 - acc: 0.9952 - val_loss: 0.0031 - val_acc: 0.9993\n",
      "Epoch 13/20\n",
      "21964/21964 [==============================] - 132s 6ms/step - loss: 0.0150 - acc: 0.9954 - val_loss: 3.9966e-04 - val_acc: 1.0000\n",
      "Epoch 14/20\n",
      "21964/21964 [==============================] - 140s 6ms/step - loss: 0.0137 - acc: 0.9954 - val_loss: 1.1079e-05 - val_acc: 1.0000\n",
      "Epoch 15/20\n",
      "21964/21964 [==============================] - 149s 7ms/step - loss: 0.0111 - acc: 0.9959 - val_loss: 0.0101 - val_acc: 0.9965\n",
      "Epoch 16/20\n",
      "21964/21964 [==============================] - 136s 6ms/step - loss: 0.0102 - acc: 0.9967 - val_loss: 7.4856e-04 - val_acc: 0.9996\n",
      "Epoch 17/20\n",
      "21964/21964 [==============================] - 139s 6ms/step - loss: 0.0118 - acc: 0.9961 - val_loss: 0.0010 - val_acc: 0.9998\n",
      "Epoch 18/20\n",
      "21964/21964 [==============================] - 137s 6ms/step - loss: 0.0123 - acc: 0.9968 - val_loss: 0.0041 - val_acc: 0.9985\n",
      "Epoch 19/20\n",
      "21964/21964 [==============================] - 137s 6ms/step - loss: 0.0130 - acc: 0.9957 - val_loss: 8.9179e-05 - val_acc: 1.0000\n",
      "Epoch 20/20\n",
      "21964/21964 [==============================] - 152s 7ms/step - loss: 0.0093 - acc: 0.9970 - val_loss: 1.2962e-05 - val_acc: 1.0000\n"
     ]
    }
   ],
   "source": [
    "history = model.fit(x_train, y_train, \n",
    "                    batch_size=128, epochs=20,\n",
    "                    validation_data=(x_val, y_val))"
   ]
  },
  {
   "cell_type": "markdown",
   "metadata": {},
   "source": [
    "## Loss and accuracy curves"
   ]
  },
  {
   "cell_type": "code",
   "execution_count": 26,
   "metadata": {},
   "outputs": [],
   "source": [
    "history_dict = history.history\n",
    "\n",
    "training_loss = history_dict['loss']\n",
    "training_acc = history_dict['acc']\n",
    "\n",
    "val_loss = history_dict['val_loss']\n",
    "val_acc = history_dict['val_acc']\n",
    "\n",
    "epochs = range(1, len(val_acc) + 1)"
   ]
  },
  {
   "cell_type": "markdown",
   "metadata": {},
   "source": [
    "### Training and validation loss"
   ]
  },
  {
   "cell_type": "code",
   "execution_count": 27,
   "metadata": {},
   "outputs": [
    {
     "data": {
      "image/png": "[encoded data removed]",
      "text/plain": [
       "<Figure size 432x288 with 1 Axes>"
      ]
     },
     "metadata": {},
     "output_type": "display_data"
    }
   ],
   "source": [
    "plt.plot(epochs, training_loss, 'bo', label='Training loss')\n",
    "plt.plot(epochs, val_loss, 'b', label='Validation loss')\n",
    "\n",
    "plt.title('Training and validation loss')\n",
    "plt.xlabel('Epochs')\n",
    "plt.ylabel('Loss')\n",
    "plt.legend()\n",
    "\n",
    "plt.show()"
   ]
  },
  {
   "cell_type": "markdown",
   "metadata": {},
   "source": [
    "### Training and validation accuracy"
   ]
  },
  {
   "cell_type": "code",
   "execution_count": 28,
   "metadata": {},
   "outputs": [
    {
     "data": {
      "image/png": "[encoded data removed]",
      "text/plain": [
       "<Figure size 432x288 with 1 Axes>"
      ]
     },
     "metadata": {},
     "output_type": "display_data"
    }
   ],
   "source": [
    "plt.plot(epochs, training_acc, 'bo', label='Training accuracy')\n",
    "plt.plot(epochs, val_acc, 'b', label='Validation accuracy')\n",
    "\n",
    "plt.legend('Training and validation accuracy')\n",
    "plt.xlabel('Epochs')\n",
    "plt.ylabel('Accuracy')\n",
    "plt.legend()\n",
    "\n",
    "plt.show()"
   ]
  },
  {
   "cell_type": "markdown",
   "metadata": {},
   "source": [
    "## Evaluate model on test set"
   ]
  },
  {
   "cell_type": "code",
   "execution_count": 29,
   "metadata": {},
   "outputs": [
    {
     "name": "stdout",
     "output_type": "stream",
     "text": [
      "7172/7172 [==============================] - 14s 2ms/step\n"
     ]
    },
    {
     "data": {
      "text/plain": [
       "0.9864751812604573"
      ]
     },
     "execution_count": 29,
     "metadata": {},
     "output_type": "execute_result"
    }
   ],
   "source": [
    "test_loss, test_acc = model.evaluate(x_test, y_test)\n",
    "test_acc"
   ]
  },
  {
   "cell_type": "markdown",
   "metadata": {},
   "source": [
    "**Notes**\n",
    "\n",
    "- changing optimizer to adam didn't help much\n",
    "- dropout increased accuracy by over 3%\n",
    "- l2 regularization didn't help \n",
    "- batch normalization helped\n",
    "- increasing the number of convolutional layers helped"
   ]
  },
  {
   "cell_type": "markdown",
   "metadata": {},
   "source": [
    "## Final"
   ]
  },
  {
   "cell_type": "markdown",
   "metadata": {},
   "source": [
    "Combine training and validation sets and train again"
   ]
  },
  {
   "cell_type": "code",
   "execution_count": 30,
   "metadata": {},
   "outputs": [],
   "source": [
    "x_train, y_train = train_data[:,1:].copy(), \\\n",
    "                   train_data[:,0].copy()"
   ]
  },
  {
   "cell_type": "code",
   "execution_count": 31,
   "metadata": {},
   "outputs": [],
   "source": [
    "x_train = x_train.reshape((len(x_train), 28, 28, 1)) \n",
    "x_train = x_train.astype('float32') / 255"
   ]
  },
  {
   "cell_type": "code",
   "execution_count": 32,
   "metadata": {},
   "outputs": [],
   "source": [
    "y_train = to_categorical(y_train)"
   ]
  },
  {
   "cell_type": "code",
   "execution_count": 33,
   "metadata": {},
   "outputs": [
    {
     "name": "stdout",
     "output_type": "stream",
     "text": [
      "Epoch 1/15\n",
      "27455/27455 [==============================] - 161s 6ms/step - loss: 0.0105 - acc: 0.9969\n",
      "Epoch 2/15\n",
      "27455/27455 [==============================] - 157s 6ms/step - loss: 0.0111 - acc: 0.9970\n",
      "Epoch 3/15\n",
      "27455/27455 [==============================] - 166s 6ms/step - loss: 0.0107 - acc: 0.9966\n",
      "Epoch 4/15\n",
      "27455/27455 [==============================] - 162s 6ms/step - loss: 0.0098 - acc: 0.9974\n",
      "Epoch 5/15\n",
      "27455/27455 [==============================] - 153s 6ms/step - loss: 0.0097 - acc: 0.9969\n",
      "Epoch 6/15\n",
      "27455/27455 [==============================] - 169s 6ms/step - loss: 0.0088 - acc: 0.9978\n",
      "Epoch 7/15\n",
      "27455/27455 [==============================] - 157s 6ms/step - loss: 0.0077 - acc: 0.9977\n",
      "Epoch 8/15\n",
      "27455/27455 [==============================] - 161s 6ms/step - loss: 0.0071 - acc: 0.9978\n",
      "Epoch 9/15\n",
      "27455/27455 [==============================] - 159s 6ms/step - loss: 0.0085 - acc: 0.9977\n",
      "Epoch 10/15\n",
      "27455/27455 [==============================] - 153s 6ms/step - loss: 0.0094 - acc: 0.9973\n",
      "Epoch 11/15\n",
      "27455/27455 [==============================] - 174s 6ms/step - loss: 0.0076 - acc: 0.9979\n",
      "Epoch 12/15\n",
      "27455/27455 [==============================] - 154s 6ms/step - loss: 0.0068 - acc: 0.9984\n",
      "Epoch 13/15\n",
      "27455/27455 [==============================] - 159s 6ms/step - loss: 0.0068 - acc: 0.9982\n",
      "Epoch 14/15\n",
      "27455/27455 [==============================] - 156s 6ms/step - loss: 0.0079 - acc: 0.9980\n",
      "Epoch 15/15\n",
      "27455/27455 [==============================] - 170s 6ms/step - loss: 0.0105 - acc: 0.9977\n"
     ]
    },
    {
     "data": {
      "text/plain": [
       "<keras.callbacks.History at 0x7f3bc4142668>"
      ]
     },
     "execution_count": 33,
     "metadata": {},
     "output_type": "execute_result"
    }
   ],
   "source": [
    "model.fit(x_train, y_train, batch_size=128, epochs=15)"
   ]
  },
  {
   "cell_type": "markdown",
   "metadata": {},
   "source": [
    "**save model**"
   ]
  },
  {
   "cell_type": "code",
   "execution_count": 35,
   "metadata": {},
   "outputs": [],
   "source": [
    "model.save('final.h5')"
   ]
  },
  {
   "cell_type": "markdown",
   "metadata": {},
   "source": [
    "### evaluate on test set again"
   ]
  },
  {
   "cell_type": "code",
   "execution_count": 34,
   "metadata": {},
   "outputs": [
    {
     "name": "stdout",
     "output_type": "stream",
     "text": [
      "7172/7172 [==============================] - 13s 2ms/step\n"
     ]
    },
    {
     "data": {
      "text/plain": [
       "0.9870329057445622"
      ]
     },
     "execution_count": 34,
     "metadata": {},
     "output_type": "execute_result"
    }
   ],
   "source": [
    "test_loss, test_acc = model.evaluate(x_test, y_test)\n",
    "test_acc"
   ]
  }
 ],
 "metadata": {
  "kernelspec": {
   "display_name": "Python 3",
   "language": "python",
   "name": "python3"
  },
  "language_info": {
   "codemirror_mode": {
    "name": "ipython",
    "version": 3
   },
   "file_extension": ".py",
   "mimetype": "text/x-python",
   "name": "python",
   "nbconvert_exporter": "python",
   "pygments_lexer": "ipython3",
   "version": "3.6.6"
  }
 },
 "nbformat": 4,
 "nbformat_minor": 2
}
