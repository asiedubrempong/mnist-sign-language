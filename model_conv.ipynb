{
 "cells": [
  {
   "cell_type": "markdown",
   "metadata": {},
   "source": [
    "# MNIST sign language classification"
   ]
  },
  {
   "cell_type": "code",
   "execution_count": 1,
   "metadata": {},
   "outputs": [],
   "source": [
    "%matplotlib inline"
   ]
  },
  {
   "cell_type": "code",
   "execution_count": 2,
   "metadata": {},
   "outputs": [],
   "source": [
    "import numpy as np\n",
    "import matplotlib.pyplot as plt"
   ]
  },
  {
   "cell_type": "code",
   "execution_count": 3,
   "metadata": {},
   "outputs": [
    {
     "name": "stderr",
     "output_type": "stream",
     "text": [
      "Using TensorFlow backend.\n"
     ]
    }
   ],
   "source": [
    "from keras.models import Sequential\n",
    "from keras import layers\n",
    "from keras import regularizers\n",
    "from keras.utils import to_categorical"
   ]
  },
  {
   "cell_type": "markdown",
   "metadata": {},
   "source": [
    "## Get the data"
   ]
  },
  {
   "cell_type": "code",
   "execution_count": 4,
   "metadata": {},
   "outputs": [],
   "source": [
    "path = 'data/'"
   ]
  },
  {
   "cell_type": "code",
   "execution_count": 5,
   "metadata": {},
   "outputs": [
    {
     "name": "stdout",
     "output_type": "stream",
     "text": [
      "amer_sign2.png\tamerican_sign_language.PNG  sign_mnist_train.csv\r\n",
      "amer_sign3.png\tsign_mnist_test.csv\r\n"
     ]
    }
   ],
   "source": [
    "!ls {path}"
   ]
  },
  {
   "cell_type": "code",
   "execution_count": 6,
   "metadata": {},
   "outputs": [],
   "source": [
    "train_data = np.genfromtxt(f'{path}sign_mnist_train.csv',\n",
    "                           delimiter=',',\n",
    "                           skip_header=1,\n",
    "                           dtype='float32')\n",
    "\n",
    "test_data = np.genfromtxt(f'{path}sign_mnist_test.csv',\n",
    "                          delimiter=',',\n",
    "                          skip_header=1,\n",
    "                          dtype='float32')"
   ]
  },
  {
   "cell_type": "markdown",
   "metadata": {},
   "source": [
    "## Separate features and labels"
   ]
  },
  {
   "cell_type": "code",
   "execution_count": 25,
   "metadata": {},
   "outputs": [],
   "source": [
    "# randomly shuffle the data\n",
    "np.random.shuffle(train_data)"
   ]
  },
  {
   "cell_type": "code",
   "execution_count": 26,
   "metadata": {},
   "outputs": [],
   "source": [
    "x_train, y_train = train_data[:,1:].copy(), \\\n",
    "                   train_data[:,0].copy()\n",
    "\n",
    "x_test, y_test = test_data[:,1:].copy(), \\\n",
    "                 test_data[:,0].copy()"
   ]
  },
  {
   "cell_type": "markdown",
   "metadata": {},
   "source": [
    "### plot a single image"
   ]
  },
  {
   "cell_type": "code",
   "execution_count": 27,
   "metadata": {},
   "outputs": [
    {
     "data": {
      "text/plain": [
       "<matplotlib.image.AxesImage at 0x7fba47ad5c50>"
      ]
     },
     "execution_count": 27,
     "metadata": {},
     "output_type": "execute_result"
    },
    {
     "data": {
      "image/png": "[encoded data removed]",
      "text/plain": [
       "<Figure size 432x288 with 1 Axes>"
      ]
     },
     "metadata": {},
     "output_type": "display_data"
    }
   ],
   "source": [
    "sign = x_train[5].copy()\n",
    "sign = sign.reshape((28,28))\n",
    "plt.imshow(sign, cmap=plt.cm.binary)"
   ]
  },
  {
   "cell_type": "markdown",
   "metadata": {},
   "source": [
    "## Data preprocessing"
   ]
  },
  {
   "cell_type": "markdown",
   "metadata": {},
   "source": [
    "### reshape image into 28 * 28 matrix and normalize the pixel values"
   ]
  },
  {
   "cell_type": "code",
   "execution_count": 28,
   "metadata": {},
   "outputs": [],
   "source": [
    "x_train = x_train.reshape((len(x_train), 28, 28, 1)) \n",
    "x_train = x_train.astype('float32') / 255\n",
    "\n",
    "x_test = x_test.reshape((len(x_test), 28, 28, 1))\n",
    "x_test = x_test.astype('float32') / 255"
   ]
  },
  {
   "cell_type": "code",
   "execution_count": 29,
   "metadata": {},
   "outputs": [
    {
     "data": {
      "text/plain": [
       "((27455, 28, 28, 1), (7172, 28, 28, 1))"
      ]
     },
     "execution_count": 29,
     "metadata": {},
     "output_type": "execute_result"
    }
   ],
   "source": [
    "x_train.shape, x_test.shape"
   ]
  },
  {
   "cell_type": "markdown",
   "metadata": {},
   "source": [
    "### one-hot encode the labels"
   ]
  },
  {
   "cell_type": "code",
   "execution_count": 30,
   "metadata": {},
   "outputs": [],
   "source": [
    "y_train = to_categorical(y_train)\n",
    "y_test = to_categorical(y_test)"
   ]
  },
  {
   "cell_type": "code",
   "execution_count": 31,
   "metadata": {},
   "outputs": [
    {
     "data": {
      "text/plain": [
       "((27455, 25), (7172, 25))"
      ]
     },
     "execution_count": 31,
     "metadata": {},
     "output_type": "execute_result"
    }
   ],
   "source": [
    "y_train.shape, y_test.shape"
   ]
  },
  {
   "cell_type": "markdown",
   "metadata": {},
   "source": [
    "### create validation set"
   ]
  },
  {
   "cell_type": "code",
   "execution_count": 32,
   "metadata": {},
   "outputs": [
    {
     "data": {
      "text/plain": [
       "5491"
      ]
     },
     "execution_count": 32,
     "metadata": {},
     "output_type": "execute_result"
    }
   ],
   "source": [
    "n_vals = int(0.2*x_train.shape[0])\n",
    "n_vals"
   ]
  },
  {
   "cell_type": "code",
   "execution_count": 33,
   "metadata": {},
   "outputs": [],
   "source": [
    "x_val, y_val = x_train[:n_vals], y_train[:n_vals]\n",
    "x_train, y_train = x_train[n_vals:], y_train[n_vals:]"
   ]
  },
  {
   "cell_type": "markdown",
   "metadata": {},
   "source": [
    "## Create model"
   ]
  },
  {
   "cell_type": "code",
   "execution_count": 34,
   "metadata": {},
   "outputs": [],
   "source": [
    "model = Sequential([\n",
    "    layers.Conv2D(32, (3,3), activation='relu', input_shape=(28, 28, 1)),\n",
    "    layers.MaxPooling2D((2, 2)),\n",
    "    layers.Conv2D(64, (3,3), activation='relu'),\n",
    "    layers.MaxPooling2D((2, 2)),\n",
    "    layers.Conv2D(64, (3,3), activation='relu'),\n",
    "    layers.MaxPooling2D((2, 2)),\n",
    "    layers.Flatten(),\n",
    "    layers.Dense(100, activation='relu'),\n",
    "    layers.Dense(y_train.shape[1], activation='softmax')\n",
    "])"
   ]
  },
  {
   "cell_type": "code",
   "execution_count": 35,
   "metadata": {},
   "outputs": [],
   "source": [
    "model.compile(optimizer='rmsprop',\n",
    "              loss='categorical_crossentropy',\n",
    "              metrics=['acc'])"
   ]
  },
  {
   "cell_type": "code",
   "execution_count": 36,
   "metadata": {},
   "outputs": [
    {
     "name": "stdout",
     "output_type": "stream",
     "text": [
      "Train on 21964 samples, validate on 5491 samples\n",
      "Epoch 1/30\n",
      "21964/21964 [==============================] - 9s 400us/step - loss: 2.6831 - acc: 0.1868 - val_loss: 2.3355 - val_acc: 0.2453\n",
      "Epoch 2/30\n",
      "21964/21964 [==============================] - 9s 399us/step - loss: 1.6584 - acc: 0.4639 - val_loss: 1.3360 - val_acc: 0.5706\n",
      "Epoch 3/30\n",
      "21964/21964 [==============================] - 8s 380us/step - loss: 1.0844 - acc: 0.6449 - val_loss: 0.8092 - val_acc: 0.7581\n",
      "Epoch 4/30\n",
      "21964/21964 [==============================] - 8s 371us/step - loss: 0.6915 - acc: 0.7738 - val_loss: 0.5638 - val_acc: 0.8213\n",
      "Epoch 5/30\n",
      "21964/21964 [==============================] - 9s 388us/step - loss: 0.4446 - acc: 0.8562 - val_loss: 0.3890 - val_acc: 0.8794\n",
      "Epoch 6/30\n",
      "21964/21964 [==============================] - 8s 377us/step - loss: 0.2868 - acc: 0.9097 - val_loss: 0.3119 - val_acc: 0.9060\n",
      "Epoch 7/30\n",
      "21964/21964 [==============================] - 8s 374us/step - loss: 0.1745 - acc: 0.9476 - val_loss: 0.0855 - val_acc: 0.9825\n",
      "Epoch 8/30\n",
      "21964/21964 [==============================] - 8s 380us/step - loss: 0.1117 - acc: 0.9689 - val_loss: 0.0439 - val_acc: 0.9934\n",
      "Epoch 9/30\n",
      "21964/21964 [==============================] - 8s 374us/step - loss: 0.0676 - acc: 0.9828 - val_loss: 0.0425 - val_acc: 0.9900\n",
      "Epoch 10/30\n",
      "21964/21964 [==============================] - 8s 381us/step - loss: 0.0470 - acc: 0.9879 - val_loss: 0.0097 - val_acc: 0.9995\n",
      "Epoch 11/30\n",
      "21964/21964 [==============================] - 8s 379us/step - loss: 0.0400 - acc: 0.9898 - val_loss: 0.0084 - val_acc: 0.9996\n",
      "Epoch 12/30\n",
      "21964/21964 [==============================] - 8s 383us/step - loss: 0.0325 - acc: 0.9922 - val_loss: 0.2913 - val_acc: 0.9131\n",
      "Epoch 13/30\n",
      "21964/21964 [==============================] - 8s 382us/step - loss: 0.0271 - acc: 0.9927 - val_loss: 0.0030 - val_acc: 0.9998\n",
      "Epoch 14/30\n",
      "21964/21964 [==============================] - 8s 381us/step - loss: 0.0262 - acc: 0.9929 - val_loss: 0.0642 - val_acc: 0.9792\n",
      "Epoch 15/30\n",
      "21964/21964 [==============================] - 8s 383us/step - loss: 0.0292 - acc: 0.9929 - val_loss: 0.0022 - val_acc: 1.0000\n",
      "Epoch 16/30\n",
      "21964/21964 [==============================] - 8s 376us/step - loss: 0.0239 - acc: 0.9943 - val_loss: 0.0026 - val_acc: 0.9998\n",
      "Epoch 17/30\n",
      "21964/21964 [==============================] - 8s 380us/step - loss: 0.0178 - acc: 0.9956 - val_loss: 0.0020 - val_acc: 0.9998\n",
      "Epoch 18/30\n",
      "21964/21964 [==============================] - 8s 376us/step - loss: 0.0206 - acc: 0.9959 - val_loss: 0.0023 - val_acc: 0.9998\n",
      "Epoch 19/30\n",
      "21964/21964 [==============================] - 8s 375us/step - loss: 0.0145 - acc: 0.9959 - val_loss: 0.0572 - val_acc: 0.9823\n",
      "Epoch 20/30\n",
      "21964/21964 [==============================] - 8s 383us/step - loss: 0.0125 - acc: 0.9975 - val_loss: 5.7880e-04 - val_acc: 1.0000\n",
      "Epoch 21/30\n",
      "21964/21964 [==============================] - 8s 387us/step - loss: 0.0158 - acc: 0.9963 - val_loss: 5.0691e-04 - val_acc: 1.0000\n",
      "Epoch 22/30\n",
      "21964/21964 [==============================] - 9s 391us/step - loss: 0.0149 - acc: 0.9967 - val_loss: 0.0010 - val_acc: 0.9996\n",
      "Epoch 23/30\n",
      "21964/21964 [==============================] - 8s 380us/step - loss: 0.0177 - acc: 0.9963 - val_loss: 0.0017 - val_acc: 0.9998\n",
      "Epoch 24/30\n",
      "21964/21964 [==============================] - 8s 371us/step - loss: 0.0069 - acc: 0.9985 - val_loss: 4.8637e-04 - val_acc: 0.9998\n",
      "Epoch 25/30\n",
      "21964/21964 [==============================] - 9s 391us/step - loss: 0.0157 - acc: 0.9964 - val_loss: 0.0023 - val_acc: 0.9995\n",
      "Epoch 26/30\n",
      "21964/21964 [==============================] - 8s 373us/step - loss: 0.0059 - acc: 0.9984 - val_loss: 0.0011 - val_acc: 0.9996\n",
      "Epoch 27/30\n",
      "21964/21964 [==============================] - 8s 384us/step - loss: 0.0132 - acc: 0.9976 - val_loss: 2.2072e-04 - val_acc: 1.0000\n",
      "Epoch 28/30\n",
      "21964/21964 [==============================] - 9s 388us/step - loss: 0.0142 - acc: 0.9982 - val_loss: 2.5901e-04 - val_acc: 1.0000\n",
      "Epoch 29/30\n",
      "21964/21964 [==============================] - 8s 384us/step - loss: 0.0071 - acc: 0.9987 - val_loss: 1.2207e-04 - val_acc: 1.0000\n",
      "Epoch 30/30\n",
      "21964/21964 [==============================] - 8s 373us/step - loss: 0.0138 - acc: 0.9976 - val_loss: 7.1097e-04 - val_acc: 0.9998\n"
     ]
    }
   ],
   "source": [
    "history = model.fit(x_train, y_train, \n",
    "                    batch_size=128, epochs=30,\n",
    "                    validation_data=(x_val, y_val))"
   ]
  },
  {
   "cell_type": "markdown",
   "metadata": {},
   "source": [
    "## Loss and accuracy curves"
   ]
  },
  {
   "cell_type": "code",
   "execution_count": 37,
   "metadata": {},
   "outputs": [],
   "source": [
    "history_dict = history.history\n",
    "\n",
    "training_loss = history_dict['loss']\n",
    "training_acc = history_dict['acc']\n",
    "\n",
    "val_loss = history_dict['val_loss']\n",
    "val_acc = history_dict['val_acc']\n",
    "\n",
    "epochs = range(1, len(val_acc) + 1)"
   ]
  },
  {
   "cell_type": "markdown",
   "metadata": {},
   "source": [
    "### Training and validation loss"
   ]
  },
  {
   "cell_type": "code",
   "execution_count": 38,
   "metadata": {},
   "outputs": [
    {
     "data": {
      "image/png": "[encoded data removed]",
      "text/plain": [
       "<Figure size 432x288 with 1 Axes>"
      ]
     },
     "metadata": {},
     "output_type": "display_data"
    }
   ],
   "source": [
    "plt.plot(epochs, training_loss, 'bo', label='Training loss')\n",
    "plt.plot(epochs, val_loss, 'b', label='Validation loss')\n",
    "\n",
    "plt.title('Training and validation loss')\n",
    "plt.xlabel('Epochs')\n",
    "plt.ylabel('Loss')\n",
    "plt.legend()\n",
    "\n",
    "plt.show()"
   ]
  },
  {
   "cell_type": "markdown",
   "metadata": {},
   "source": [
    "### Training and validation accuracy"
   ]
  },
  {
   "cell_type": "code",
   "execution_count": 39,
   "metadata": {},
   "outputs": [
    {
     "data": {
      "image/png": "[encoded data removed]",
      "text/plain": [
       "<Figure size 432x288 with 1 Axes>"
      ]
     },
     "metadata": {},
     "output_type": "display_data"
    }
   ],
   "source": [
    "plt.plot(epochs, training_acc, 'bo', label='Training accuracy')\n",
    "plt.plot(epochs, val_acc, 'b', label='Validation accuracy')\n",
    "\n",
    "plt.legend('Training and validation accuracy')\n",
    "plt.xlabel('Epochs')\n",
    "plt.ylabel('Accuracy')\n",
    "plt.legend()\n",
    "\n",
    "plt.show()"
   ]
  },
  {
   "cell_type": "markdown",
   "metadata": {},
   "source": [
    "## Evaluate model on test set"
   ]
  },
  {
   "cell_type": "code",
   "execution_count": 40,
   "metadata": {},
   "outputs": [
    {
     "name": "stdout",
     "output_type": "stream",
     "text": [
      "7172/7172 [==============================] - 1s 136us/step\n"
     ]
    },
    {
     "data": {
      "text/plain": [
       "0.9060234244283324"
      ]
     },
     "execution_count": 40,
     "metadata": {},
     "output_type": "execute_result"
    }
   ],
   "source": [
    "test_loss, test_acc = model.evaluate(x_test, y_test)\n",
    "test_acc"
   ]
  },
  {
   "cell_type": "code",
   "execution_count": 41,
   "metadata": {},
   "outputs": [],
   "source": [
    "model.save('model1.h5')"
   ]
  },
  {
   "cell_type": "markdown",
   "metadata": {},
   "source": [
    "## Apply regularization techniques"
   ]
  },
  {
   "cell_type": "code",
   "execution_count": 69,
   "metadata": {},
   "outputs": [],
   "source": [
    "model = Sequential([\n",
    "    layers.Conv2D(32, (3,3), activation='relu', \n",
    "                  input_shape=(28, 28, 1), \n",
    "                  kernel_regularizer=regularizers.l2(l=0.001)),\n",
    "    layers.MaxPooling2D((2, 2)),\n",
    "    layers.Dropout(0.5),\n",
    "    layers.Conv2D(64, (3,3), activation='relu',\n",
    "                  kernel_regularizer=regularizers.l2(l=0.001)),\n",
    "    layers.MaxPooling2D((2, 2)),\n",
    "    layers.Dropout(0.5),\n",
    "    layers.Conv2D(64, (3,3), activation='relu',\n",
    "                  kernel_regularizer=regularizers.l2(l=0.001)),\n",
    "    layers.MaxPooling2D((2, 2)),\n",
    "    layers.Flatten(),\n",
    "    layers.Dense(100, activation='relu'),\n",
    "    layers.Dense(y_train.shape[1], activation='softmax')\n",
    "])"
   ]
  },
  {
   "cell_type": "code",
   "execution_count": 70,
   "metadata": {},
   "outputs": [],
   "source": [
    "model.compile(optimizer='rmsprop',\n",
    "              loss='categorical_crossentropy',\n",
    "              metrics=['acc'])"
   ]
  },
  {
   "cell_type": "code",
   "execution_count": 71,
   "metadata": {},
   "outputs": [
    {
     "name": "stdout",
     "output_type": "stream",
     "text": [
      "Train on 21964 samples, validate on 5491 samples\n",
      "Epoch 1/50\n",
      "21964/21964 [==============================] - 9s 431us/step - loss: 3.1126 - acc: 0.0868 - val_loss: 2.8000 - val_acc: 0.1745\n",
      "Epoch 2/50\n",
      "21964/21964 [==============================] - 9s 408us/step - loss: 2.3356 - acc: 0.2852 - val_loss: 1.8445 - val_acc: 0.4806\n",
      "Epoch 3/50\n",
      "21964/21964 [==============================] - 9s 404us/step - loss: 1.7069 - acc: 0.4789 - val_loss: 1.3175 - val_acc: 0.6305\n",
      "Epoch 4/50\n",
      "21964/21964 [==============================] - 9s 399us/step - loss: 1.3418 - acc: 0.5984 - val_loss: 1.0801 - val_acc: 0.7066\n",
      "Epoch 5/50\n",
      "21964/21964 [==============================] - 9s 418us/step - loss: 1.1042 - acc: 0.6810 - val_loss: 0.8221 - val_acc: 0.7873\n",
      "Epoch 6/50\n",
      "21964/21964 [==============================] - 9s 406us/step - loss: 0.9429 - acc: 0.7375 - val_loss: 0.6596 - val_acc: 0.8691\n",
      "Epoch 7/50\n",
      "21964/21964 [==============================] - 9s 404us/step - loss: 0.8141 - acc: 0.7867 - val_loss: 0.5153 - val_acc: 0.9168\n",
      "Epoch 8/50\n",
      "21964/21964 [==============================] - 9s 412us/step - loss: 0.7184 - acc: 0.8211 - val_loss: 0.5233 - val_acc: 0.8946\n",
      "Epoch 9/50\n",
      "21964/21964 [==============================] - 9s 414us/step - loss: 0.6477 - acc: 0.8484 - val_loss: 0.4271 - val_acc: 0.9454\n",
      "Epoch 10/50\n",
      "21964/21964 [==============================] - 9s 424us/step - loss: 0.5812 - acc: 0.8725 - val_loss: 0.3917 - val_acc: 0.9590\n",
      "Epoch 11/50\n",
      "21964/21964 [==============================] - 9s 412us/step - loss: 0.5443 - acc: 0.8824 - val_loss: 0.3745 - val_acc: 0.9536\n",
      "Epoch 12/50\n",
      "21964/21964 [==============================] - 9s 424us/step - loss: 0.5069 - acc: 0.8979 - val_loss: 0.3917 - val_acc: 0.9388\n",
      "Epoch 13/50\n",
      "21964/21964 [==============================] - 9s 407us/step - loss: 0.4710 - acc: 0.9077 - val_loss: 0.2894 - val_acc: 0.9863\n",
      "Epoch 14/50\n",
      "21964/21964 [==============================] - 9s 419us/step - loss: 0.4431 - acc: 0.9154 - val_loss: 0.2799 - val_acc: 0.9854\n",
      "Epoch 15/50\n",
      "21964/21964 [==============================] - 9s 418us/step - loss: 0.4147 - acc: 0.9256 - val_loss: 0.2517 - val_acc: 0.9962\n",
      "Epoch 16/50\n",
      "21964/21964 [==============================] - 9s 419us/step - loss: 0.3932 - acc: 0.9333 - val_loss: 0.2493 - val_acc: 0.9913\n",
      "Epoch 17/50\n",
      "21964/21964 [==============================] - 9s 422us/step - loss: 0.3731 - acc: 0.9390 - val_loss: 0.2421 - val_acc: 0.9922\n",
      "Epoch 18/50\n",
      "21964/21964 [==============================] - 9s 400us/step - loss: 0.3615 - acc: 0.9418 - val_loss: 0.2398 - val_acc: 0.9909\n",
      "Epoch 19/50\n",
      "21964/21964 [==============================] - 9s 405us/step - loss: 0.3444 - acc: 0.9451 - val_loss: 0.2159 - val_acc: 0.9967\n",
      "Epoch 20/50\n",
      "21964/21964 [==============================] - 9s 414us/step - loss: 0.3278 - acc: 0.9503 - val_loss: 0.2096 - val_acc: 0.9973\n",
      "Epoch 21/50\n",
      "21964/21964 [==============================] - 9s 408us/step - loss: 0.3125 - acc: 0.9536 - val_loss: 0.1921 - val_acc: 0.9991\n",
      "Epoch 22/50\n",
      "21964/21964 [==============================] - 9s 414us/step - loss: 0.3076 - acc: 0.9545 - val_loss: 0.1913 - val_acc: 0.9978\n",
      "Epoch 23/50\n",
      "21964/21964 [==============================] - 9s 411us/step - loss: 0.2925 - acc: 0.9580 - val_loss: 0.1863 - val_acc: 0.9991\n",
      "Epoch 24/50\n",
      "21964/21964 [==============================] - 9s 412us/step - loss: 0.2862 - acc: 0.9608 - val_loss: 0.1784 - val_acc: 0.9996\n",
      "Epoch 25/50\n",
      "21964/21964 [==============================] - 9s 404us/step - loss: 0.2779 - acc: 0.9606 - val_loss: 0.1968 - val_acc: 0.9911\n",
      "Epoch 26/50\n",
      "21964/21964 [==============================] - 9s 419us/step - loss: 0.2696 - acc: 0.9624 - val_loss: 0.1696 - val_acc: 1.0000\n",
      "Epoch 27/50\n",
      "21964/21964 [==============================] - 9s 403us/step - loss: 0.2609 - acc: 0.9659 - val_loss: 0.1618 - val_acc: 0.9998\n",
      "Epoch 28/50\n",
      "21964/21964 [==============================] - 9s 415us/step - loss: 0.2560 - acc: 0.9663 - val_loss: 0.1584 - val_acc: 1.0000\n",
      "Epoch 29/50\n",
      "21964/21964 [==============================] - 9s 411us/step - loss: 0.2522 - acc: 0.9671 - val_loss: 0.1618 - val_acc: 0.9985\n",
      "Epoch 30/50\n",
      "21964/21964 [==============================] - 9s 418us/step - loss: 0.2478 - acc: 0.9660 - val_loss: 0.1547 - val_acc: 0.9996\n",
      "Epoch 31/50\n",
      "21964/21964 [==============================] - 9s 403us/step - loss: 0.2425 - acc: 0.9681 - val_loss: 0.1521 - val_acc: 0.9995\n",
      "Epoch 32/50\n",
      "21964/21964 [==============================] - 9s 424us/step - loss: 0.2322 - acc: 0.9701 - val_loss: 0.1476 - val_acc: 0.9998\n",
      "Epoch 33/50\n",
      "21964/21964 [==============================] - 9s 416us/step - loss: 0.2306 - acc: 0.9697 - val_loss: 0.1503 - val_acc: 0.9985\n",
      "Epoch 34/50\n",
      "21964/21964 [==============================] - 9s 413us/step - loss: 0.2273 - acc: 0.9699 - val_loss: 0.1423 - val_acc: 1.0000\n",
      "Epoch 35/50\n",
      "21964/21964 [==============================] - 9s 416us/step - loss: 0.2213 - acc: 0.9711 - val_loss: 0.1412 - val_acc: 0.9995\n",
      "Epoch 36/50\n",
      "21964/21964 [==============================] - 9s 406us/step - loss: 0.2171 - acc: 0.9724 - val_loss: 0.1426 - val_acc: 0.9987\n",
      "Epoch 37/50\n",
      "21964/21964 [==============================] - 9s 404us/step - loss: 0.2154 - acc: 0.9726 - val_loss: 0.1353 - val_acc: 0.9998\n",
      "Epoch 38/50\n",
      "21964/21964 [==============================] - 9s 400us/step - loss: 0.2107 - acc: 0.9728 - val_loss: 0.1331 - val_acc: 1.0000\n",
      "Epoch 39/50\n",
      "21964/21964 [==============================] - 9s 403us/step - loss: 0.2025 - acc: 0.9763 - val_loss: 0.1320 - val_acc: 1.0000\n",
      "Epoch 40/50\n",
      "21964/21964 [==============================] - 9s 411us/step - loss: 0.2014 - acc: 0.9757 - val_loss: 0.1405 - val_acc: 0.9967\n",
      "Epoch 41/50\n",
      "21964/21964 [==============================] - 9s 417us/step - loss: 0.2013 - acc: 0.9753 - val_loss: 0.1353 - val_acc: 0.9987\n",
      "Epoch 42/50\n",
      "21964/21964 [==============================] - 9s 424us/step - loss: 0.2005 - acc: 0.9750 - val_loss: 0.1260 - val_acc: 1.0000\n",
      "Epoch 43/50\n",
      "21964/21964 [==============================] - 9s 412us/step - loss: 0.1955 - acc: 0.9766 - val_loss: 0.1313 - val_acc: 0.9996\n",
      "Epoch 44/50\n",
      "21964/21964 [==============================] - 9s 421us/step - loss: 0.1931 - acc: 0.9764 - val_loss: 0.1275 - val_acc: 0.9996\n",
      "Epoch 45/50\n",
      "21964/21964 [==============================] - 9s 415us/step - loss: 0.1943 - acc: 0.9765 - val_loss: 0.1244 - val_acc: 0.9998\n",
      "Epoch 46/50\n",
      "21964/21964 [==============================] - 9s 411us/step - loss: 0.1920 - acc: 0.9761 - val_loss: 0.1214 - val_acc: 1.0000\n",
      "Epoch 47/50\n",
      "21964/21964 [==============================] - 9s 422us/step - loss: 0.1887 - acc: 0.9777 - val_loss: 0.1205 - val_acc: 0.9998\n",
      "Epoch 48/50\n",
      "21964/21964 [==============================] - 9s 418us/step - loss: 0.1880 - acc: 0.9783 - val_loss: 0.1198 - val_acc: 1.0000\n",
      "Epoch 49/50\n",
      "21964/21964 [==============================] - 9s 405us/step - loss: 0.1792 - acc: 0.9800 - val_loss: 0.1197 - val_acc: 1.0000\n",
      "Epoch 50/50\n",
      "21964/21964 [==============================] - 9s 411us/step - loss: 0.1882 - acc: 0.9765 - val_loss: 0.1211 - val_acc: 1.0000\n"
     ]
    }
   ],
   "source": [
    "history = model.fit(x_train, y_train, \n",
    "                    batch_size=128, epochs=50,\n",
    "                    validation_data=(x_val, y_val))"
   ]
  },
  {
   "cell_type": "markdown",
   "metadata": {},
   "source": [
    "## Loss and accuracy curves"
   ]
  },
  {
   "cell_type": "code",
   "execution_count": 72,
   "metadata": {},
   "outputs": [],
   "source": [
    "history_dict = history.history\n",
    "\n",
    "training_loss = history_dict['loss']\n",
    "training_acc = history_dict['acc']\n",
    "\n",
    "val_loss = history_dict['val_loss']\n",
    "val_acc = history_dict['val_acc']\n",
    "\n",
    "epochs = range(1, len(val_acc) + 1)"
   ]
  },
  {
   "cell_type": "markdown",
   "metadata": {},
   "source": [
    "### Training and validation loss"
   ]
  },
  {
   "cell_type": "code",
   "execution_count": 73,
   "metadata": {},
   "outputs": [
    {
     "data": {
      "image/png": "[encoded data removed]",
      "text/plain": [
       "<Figure size 432x288 with 1 Axes>"
      ]
     },
     "metadata": {},
     "output_type": "display_data"
    }
   ],
   "source": [
    "plt.plot(epochs, training_loss, 'bo', label='Training loss')\n",
    "plt.plot(epochs, val_loss, 'b', label='Validation loss')\n",
    "\n",
    "plt.title('Training and validation loss')\n",
    "plt.xlabel('Epochs')\n",
    "plt.ylabel('Loss')\n",
    "plt.legend()\n",
    "\n",
    "plt.show()"
   ]
  },
  {
   "cell_type": "markdown",
   "metadata": {},
   "source": [
    "### Training and validation accuracy"
   ]
  },
  {
   "cell_type": "code",
   "execution_count": 74,
   "metadata": {},
   "outputs": [
    {
     "data": {
      "image/png": "[encoded data removed]",
      "text/plain": [
       "<Figure size 432x288 with 1 Axes>"
      ]
     },
     "metadata": {},
     "output_type": "display_data"
    }
   ],
   "source": [
    "plt.plot(epochs, training_acc, 'bo', label='Training accuracy')\n",
    "plt.plot(epochs, val_acc, 'b', label='Validation accuracy')\n",
    "\n",
    "plt.legend('Training and validation accuracy')\n",
    "plt.xlabel('Epochs')\n",
    "plt.ylabel('Accuracy')\n",
    "plt.legend()\n",
    "\n",
    "plt.show()"
   ]
  },
  {
   "cell_type": "markdown",
   "metadata": {},
   "source": [
    "## Evaluate model on test set"
   ]
  },
  {
   "cell_type": "code",
   "execution_count": 75,
   "metadata": {},
   "outputs": [
    {
     "name": "stdout",
     "output_type": "stream",
     "text": [
      "7172/7172 [==============================] - 1s 141us/step\n"
     ]
    },
    {
     "data": {
      "text/plain": [
       "0.9230340211935304"
      ]
     },
     "execution_count": 75,
     "metadata": {},
     "output_type": "execute_result"
    }
   ],
   "source": [
    "test_loss, test_acc = model.evaluate(x_test, y_test)\n",
    "test_acc"
   ]
  },
  {
   "cell_type": "markdown",
   "metadata": {},
   "source": [
    "**Notes**\n",
    "\n",
    "- changing optimizer to adam didn't help much\n",
    "- dropout increased accuracy by over 3%"
   ]
  }
 ],
 "metadata": {
  "kernelspec": {
   "display_name": "Python 3",
   "language": "python",
   "name": "python3"
  },
  "language_info": {
   "codemirror_mode": {
    "name": "ipython",
    "version": 3
   },
   "file_extension": ".py",
   "mimetype": "text/x-python",
   "name": "python",
   "nbconvert_exporter": "python",
   "pygments_lexer": "ipython3",
   "version": "3.6.6"
  }
 },
 "nbformat": 4,
 "nbformat_minor": 2
}
