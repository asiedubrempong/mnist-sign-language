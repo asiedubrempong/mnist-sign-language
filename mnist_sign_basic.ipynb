{
 "cells": [
  {
   "cell_type": "markdown",
   "metadata": {},
   "source": [
    "# Image classification on MNIST sign language dataset"
   ]
  },
  {
   "cell_type": "code",
   "execution_count": 1,
   "metadata": {},
   "outputs": [],
   "source": [
    "%matplotlib inline"
   ]
  },
  {
   "cell_type": "code",
   "execution_count": 2,
   "metadata": {},
   "outputs": [],
   "source": [
    "import numpy as np\n",
    "import matplotlib.pyplot as plt"
   ]
  },
  {
   "cell_type": "code",
   "execution_count": 3,
   "metadata": {},
   "outputs": [
    {
     "name": "stderr",
     "output_type": "stream",
     "text": [
      "Using TensorFlow backend.\n"
     ]
    }
   ],
   "source": [
    "from keras.models import Sequential\n",
    "from keras import layers\n",
    "from keras import regularizers\n",
    "from keras.utils import to_categorical"
   ]
  },
  {
   "cell_type": "markdown",
   "metadata": {},
   "source": [
    "## Get the data"
   ]
  },
  {
   "cell_type": "code",
   "execution_count": 4,
   "metadata": {},
   "outputs": [],
   "source": [
    "PATH = 'data/'"
   ]
  },
  {
   "cell_type": "code",
   "execution_count": 5,
   "metadata": {},
   "outputs": [
    {
     "name": "stdout",
     "output_type": "stream",
     "text": [
      "american_sign_language.PNG  amer_sign3.png\t sign_mnist_train.csv\r\n",
      "amer_sign2.png\t\t    sign_mnist_test.csv\r\n"
     ]
    }
   ],
   "source": [
    "!ls {PATH}"
   ]
  },
  {
   "cell_type": "code",
   "execution_count": 6,
   "metadata": {},
   "outputs": [],
   "source": [
    "train_data = np.genfromtxt(f'{PATH}sign_mnist_train.csv',\n",
    "                           delimiter=',', skip_header=1,\n",
    "                           dtype='float32')\n",
    "\n",
    "test_data = np.genfromtxt(f'{PATH}sign_mnist_test.csv',\n",
    "                           delimiter=',', skip_header=1,\n",
    "                           dtype='float32')"
   ]
  },
  {
   "cell_type": "code",
   "execution_count": 7,
   "metadata": {},
   "outputs": [
    {
     "data": {
      "text/plain": [
       "array([  3., 107., 118., 127., 134., 139., 143., 146., 150., 153., 156.,\n",
       "       158., 160., 163., 165., 159., 166., 168., 170., 170., 171., 171.,\n",
       "       171., 172., 171., 171., 170., 170., 169., 111., 121., 129., 135.,\n",
       "       141., 144., 148., 151., 154., 157., 160., 163., 164., 170., 119.,\n",
       "       152., 171., 171., 170., 171., 172., 172., 172., 172., 172., 171.,\n",
       "       171., 170., 113., 123., 131., 137., 142., 145., 150., 152., 155.,\n",
       "       158., 161., 163., 164., 172., 105., 142., 170., 171., 171., 171.,\n",
       "       172., 172., 173., 173., 172., 171., 171., 171., 116., 125., 133.,\n",
       "       139., 143., 146., 151., 153., 156., 159., 162., 163., 167., 167.,\n",
       "        95., 144., 171., 172., 172., 172., 172., 172., 173., 173., 173.,\n",
       "       172., 172., 171., 117., 126., 134., 140., 145., 149., 153., 156.,\n",
       "       158., 161., 163., 164., 175., 156.,  87., 154., 172., 173., 173.,\n",
       "       173., 173., 173., 174., 174., 174., 173., 172., 172., 119., 128.,\n",
       "       136., 142., 146., 150., 153., 156., 159., 163., 165., 164., 184.,\n",
       "       148.,  89., 164., 172., 174., 174., 174., 174., 175., 175., 174.,\n",
       "       175., 174., 173., 173., 122., 130., 138., 143., 147., 150., 154.,\n",
       "       158., 162., 165., 166., 172., 181., 128.,  94., 170., 173., 175.,\n",
       "       174., 175., 176., 177., 177., 177., 177., 175., 175., 174., 122.,\n",
       "       132., 139., 145., 149., 152., 156., 160., 163., 165., 166., 181.,\n",
       "       172., 103., 113., 175., 176., 178., 178., 179., 179., 179., 179.,\n",
       "       178., 179., 177., 175., 174., 125., 134., 141., 147., 150., 153.,\n",
       "       157., 161., 164., 167., 168., 184., 179., 116., 126., 165., 176.,\n",
       "       179., 180., 180., 181., 180., 180., 180., 179., 178., 177., 176.,\n",
       "       128., 135., 142., 148., 152., 154., 158., 162., 165., 168., 170.,\n",
       "       187., 180., 156., 161., 124., 143., 179., 178., 178., 181., 182.,\n",
       "       181., 180., 181., 180., 179., 179., 129., 136., 144., 150., 153.,\n",
       "       155., 159., 163., 166., 169., 172., 187., 184., 153., 102., 117.,\n",
       "       110., 175., 169., 154., 182., 183., 183., 182., 182., 181., 181.,\n",
       "       179., 131., 138., 145., 150., 155., 157., 161., 165., 168., 174.,\n",
       "       190., 189., 175., 146.,  94.,  97., 113., 151., 158., 129., 184.,\n",
       "       184., 184., 184., 183., 183., 182., 180., 131., 139., 146., 151.,\n",
       "       155., 159., 163., 167., 175., 182., 179., 171., 159., 114., 102.,\n",
       "        89., 121., 136., 136.,  96., 172., 186., 186., 185., 185., 184.,\n",
       "       182., 181., 131., 140., 147., 154., 157., 160., 164., 179., 186.,\n",
       "       191., 187., 180., 157., 100.,  88.,  84., 108., 111., 126.,  90.,\n",
       "       120., 186., 187., 187., 186., 185., 184., 182., 133., 141., 149.,\n",
       "       155., 158., 160., 174., 201., 189., 165., 151., 143., 146., 120.,\n",
       "        87.,  78.,  87.,  76., 108.,  98.,  96., 181., 188., 187., 186.,\n",
       "       186., 185., 183., 133., 141., 150., 156., 160., 161., 179., 197.,\n",
       "       174., 135.,  99.,  72.,  95., 134.,  97.,  72.,  74.,  68., 116.,\n",
       "       105., 108., 187., 189., 187., 187., 186., 186., 185., 134., 143.,\n",
       "       151., 156., 161., 163., 179., 194., 156., 110.,  74.,  42.,  52.,\n",
       "       139.,  94.,  67.,  75.,  75., 118., 106., 129., 189., 191., 190.,\n",
       "       188., 188., 187., 186., 135., 144., 152., 158., 163., 163., 177.,\n",
       "       193., 161., 122.,  84.,  43.,  71., 134.,  81.,  57.,  71.,  88.,\n",
       "       112.,  98., 157., 193., 193., 192., 190., 190., 189., 188., 136.,\n",
       "       144., 152., 158., 162., 163., 176., 192., 164., 128.,  98.,  62.,\n",
       "        60., 100.,  71.,  76.,  96., 101., 105.,  95., 174., 195., 194.,\n",
       "       194., 194., 193., 191., 190., 137., 145., 152., 159., 164., 165.,\n",
       "       178., 191., 164., 135., 113.,  82.,  59.,  87.,  98., 111., 120.,\n",
       "       108.,  97., 108., 190., 196., 195., 195., 194., 193., 193., 192.,\n",
       "       139., 146., 154., 160., 164., 165., 175., 186., 163., 139., 112.,\n",
       "        85.,  67., 102., 126., 133., 126., 105., 104., 176., 197., 198.,\n",
       "       197., 196., 195., 195., 194., 193., 138., 147., 155., 161., 165.,\n",
       "       167., 172., 186., 163., 137., 107.,  87.,  76., 106., 122., 125.,\n",
       "       117.,  96., 156., 199., 199., 200., 198., 196., 196., 195., 195.,\n",
       "       194., 139., 148., 156., 163., 166., 168., 172., 180., 158., 131.,\n",
       "       108.,  99.,  86., 108., 118., 116., 103., 107., 191., 202., 201.,\n",
       "       200., 200., 200., 199., 197., 198., 196., 140., 149., 157., 164.,\n",
       "       168., 167., 177., 178., 155., 131., 118., 105.,  87., 100., 106.,\n",
       "       100.,  96., 164., 202., 202., 202., 202., 202., 201., 200., 199.,\n",
       "       199., 198., 140., 150., 157., 165., 167., 170., 181., 175., 152.,\n",
       "       130., 115.,  98.,  82.,  85.,  90.,  99., 165., 202., 203., 204.,\n",
       "       203., 203., 202., 202., 201., 201., 200., 200., 142., 150., 159.,\n",
       "       165., 170., 191., 173., 157., 144., 119.,  97.,  84.,  79.,  79.,\n",
       "        91., 172., 202., 203., 203., 205., 204., 204., 204., 203., 202.,\n",
       "       202., 201., 200., 142., 151., 160., 165., 188., 190., 187., 150.,\n",
       "       119., 109.,  85.,  79.,  79.,  78., 137., 203., 205., 206., 206.,\n",
       "       207., 207., 206., 206., 204., 205., 204., 203., 202., 142., 151.,\n",
       "       160., 172., 196., 188., 188., 190., 135.,  96.,  86.,  77.,  77.,\n",
       "        79., 176., 205., 207., 207., 207., 207., 207., 207., 206., 206.,\n",
       "       206., 204., 203., 202.], dtype=float32)"
      ]
     },
     "execution_count": 7,
     "metadata": {},
     "output_type": "execute_result"
    }
   ],
   "source": [
    "train_data[0]"
   ]
  },
  {
   "cell_type": "markdown",
   "metadata": {},
   "source": [
    "### separate labels from the data"
   ]
  },
  {
   "cell_type": "code",
   "execution_count": 8,
   "metadata": {},
   "outputs": [],
   "source": [
    "# randomly shuffle the data\n",
    "np.random.shuffle(train_data)"
   ]
  },
  {
   "cell_type": "code",
   "execution_count": 8,
   "metadata": {},
   "outputs": [],
   "source": [
    "X_train = train_data[:, 1:].copy()\n",
    "y_train = train_data[:, 0].copy()\n",
    "\n",
    "X_test = test_data[:, 1:].copy()\n",
    "y_test = test_data[:, 0].copy()"
   ]
  },
  {
   "cell_type": "code",
   "execution_count": 9,
   "metadata": {},
   "outputs": [
    {
     "data": {
      "text/plain": [
       "((27455, 784), (7172, 784))"
      ]
     },
     "execution_count": 9,
     "metadata": {},
     "output_type": "execute_result"
    }
   ],
   "source": [
    "X_train.shape, X_test.shape"
   ]
  },
  {
   "cell_type": "code",
   "execution_count": 10,
   "metadata": {},
   "outputs": [
    {
     "data": {
      "text/plain": [
       "((27455,), (7172,))"
      ]
     },
     "execution_count": 10,
     "metadata": {},
     "output_type": "execute_result"
    }
   ],
   "source": [
    "y_train.shape, y_test.shape"
   ]
  },
  {
   "cell_type": "markdown",
   "metadata": {},
   "source": [
    "visualize the data"
   ]
  },
  {
   "cell_type": "code",
   "execution_count": 11,
   "metadata": {},
   "outputs": [
    {
     "data": {
      "text/plain": [
       "(28, 28)"
      ]
     },
     "execution_count": 11,
     "metadata": {},
     "output_type": "execute_result"
    }
   ],
   "source": [
    "sign = X_train[0].copy()\n",
    "sign = np.reshape(sign, (28,28))\n",
    "sign.shape"
   ]
  },
  {
   "cell_type": "code",
   "execution_count": 12,
   "metadata": {},
   "outputs": [
    {
     "data": {
      "image/png": "[encoded data removed]",
      "text/plain": [
       "<Figure size 432x288 with 1 Axes>"
      ]
     },
     "metadata": {},
     "output_type": "display_data"
    }
   ],
   "source": [
    "plt.imshow(sign, cmap=plt.cm.binary)\n",
    "plt.show()"
   ]
  },
  {
   "cell_type": "markdown",
   "metadata": {},
   "source": [
    "## Data preprocessing"
   ]
  },
  {
   "cell_type": "markdown",
   "metadata": {},
   "source": [
    "Scale pixel values to be between 0 and 1"
   ]
  },
  {
   "cell_type": "code",
   "execution_count": 13,
   "metadata": {},
   "outputs": [],
   "source": [
    "X_train /= 255\n",
    "X_test /= 255"
   ]
  },
  {
   "cell_type": "markdown",
   "metadata": {},
   "source": [
    "one hot encode the labels"
   ]
  },
  {
   "cell_type": "code",
   "execution_count": 14,
   "metadata": {},
   "outputs": [],
   "source": [
    "y_train = to_categorical(y_train)\n",
    "y_test = to_categorical(y_test)"
   ]
  },
  {
   "cell_type": "code",
   "execution_count": 15,
   "metadata": {},
   "outputs": [
    {
     "data": {
      "text/plain": [
       "((27455, 25), (7172, 25))"
      ]
     },
     "execution_count": 15,
     "metadata": {},
     "output_type": "execute_result"
    }
   ],
   "source": [
    "y_train.shape, y_test.shape"
   ]
  },
  {
   "cell_type": "markdown",
   "metadata": {},
   "source": [
    "**create validation set**"
   ]
  },
  {
   "cell_type": "code",
   "execution_count": 16,
   "metadata": {},
   "outputs": [
    {
     "data": {
      "text/plain": [
       "5491"
      ]
     },
     "execution_count": 16,
     "metadata": {},
     "output_type": "execute_result"
    }
   ],
   "source": [
    "num_val = int(0.2*len(X_train))\n",
    "num_val"
   ]
  },
  {
   "cell_type": "code",
   "execution_count": 17,
   "metadata": {},
   "outputs": [],
   "source": [
    "X_val, y_val = X_train[:num_val], y_train[:num_val]\n",
    "new_X_train, new_y_train = X_train[num_val:], y_train[num_val:]"
   ]
  },
  {
   "cell_type": "markdown",
   "metadata": {},
   "source": [
    "## Building the model"
   ]
  },
  {
   "cell_type": "code",
   "execution_count": 51,
   "metadata": {},
   "outputs": [],
   "source": [
    "model = Sequential([\n",
    "    layers.Dense(64, activation='relu', \n",
    "                 input_shape=(X_train[0].shape[0],),\n",
    "                 kernel_regularizer=regularizers.l2(0.001)),\n",
    "    layers.Dropout(0.2),\n",
    "    layers.Dense(64, activation='relu',\n",
    "                 kernel_regularizer=regularizers.l2(0.001)),\n",
    "    layers.Dropout(0.2),\n",
    "    layers.Dense(64, activation='relu',\n",
    "                 kernel_regularizer=regularizers.l2(0.001)),\n",
    "    layers.Dropout(0.2),\n",
    "    layers.Dense(y_train.shape[1], activation='softmax')\n",
    "])"
   ]
  },
  {
   "cell_type": "code",
   "execution_count": 52,
   "metadata": {},
   "outputs": [],
   "source": [
    "model.compile(optimizer='rmsprop',\n",
    "              loss='categorical_crossentropy',\n",
    "              metrics=['acc'])"
   ]
  },
  {
   "cell_type": "code",
   "execution_count": 53,
   "metadata": {},
   "outputs": [
    {
     "name": "stdout",
     "output_type": "stream",
     "text": [
      "Train on 21964 samples, validate on 5491 samples\n",
      "Epoch 1/40\n",
      "21964/21964 [==============================] - 1s 58us/step - loss: 3.0686 - acc: 0.1064 - val_loss: 2.4367 - val_acc: 0.2546\n",
      "Epoch 2/40\n",
      "21964/21964 [==============================] - 1s 41us/step - loss: 2.4439 - acc: 0.2186 - val_loss: 2.1768 - val_acc: 0.3169\n",
      "Epoch 3/40\n",
      "21964/21964 [==============================] - 1s 42us/step - loss: 2.1819 - acc: 0.2824 - val_loss: 1.9750 - val_acc: 0.3582\n",
      "Epoch 4/40\n",
      "21964/21964 [==============================] - 1s 42us/step - loss: 2.0274 - acc: 0.3356 - val_loss: 1.8688 - val_acc: 0.4034\n",
      "Epoch 5/40\n",
      "21964/21964 [==============================] - 1s 42us/step - loss: 1.9006 - acc: 0.3744 - val_loss: 1.8290 - val_acc: 0.4070\n",
      "Epoch 6/40\n",
      "21964/21964 [==============================] - 1s 42us/step - loss: 1.8052 - acc: 0.4055 - val_loss: 1.9650 - val_acc: 0.3763\n",
      "Epoch 7/40\n",
      "21964/21964 [==============================] - 1s 45us/step - loss: 1.7344 - acc: 0.4297 - val_loss: 1.7587 - val_acc: 0.4475\n",
      "Epoch 8/40\n",
      "21964/21964 [==============================] - 1s 42us/step - loss: 1.6792 - acc: 0.4542 - val_loss: 1.4741 - val_acc: 0.5338\n",
      "Epoch 9/40\n",
      "21964/21964 [==============================] - 1s 43us/step - loss: 1.6196 - acc: 0.4744 - val_loss: 1.4012 - val_acc: 0.5542\n",
      "Epoch 10/40\n",
      "21964/21964 [==============================] - 1s 41us/step - loss: 1.5621 - acc: 0.4953 - val_loss: 1.6875 - val_acc: 0.4557\n",
      "Epoch 11/40\n",
      "21964/21964 [==============================] - 1s 42us/step - loss: 1.5355 - acc: 0.5081 - val_loss: 1.6956 - val_acc: 0.4890\n",
      "Epoch 12/40\n",
      "21964/21964 [==============================] - 1s 42us/step - loss: 1.4968 - acc: 0.5224 - val_loss: 1.4578 - val_acc: 0.5372\n",
      "Epoch 13/40\n",
      "21964/21964 [==============================] - 1s 42us/step - loss: 1.4658 - acc: 0.5356 - val_loss: 1.1757 - val_acc: 0.6398\n",
      "Epoch 14/40\n",
      "21964/21964 [==============================] - 1s 43us/step - loss: 1.4335 - acc: 0.5459 - val_loss: 1.2505 - val_acc: 0.6121\n",
      "Epoch 15/40\n",
      "21964/21964 [==============================] - 1s 42us/step - loss: 1.4022 - acc: 0.5622 - val_loss: 1.4259 - val_acc: 0.5586\n",
      "Epoch 16/40\n",
      "21964/21964 [==============================] - 1s 43us/step - loss: 1.3790 - acc: 0.5674 - val_loss: 1.0745 - val_acc: 0.6911\n",
      "Epoch 17/40\n",
      "21964/21964 [==============================] - 1s 42us/step - loss: 1.3570 - acc: 0.5751 - val_loss: 1.4307 - val_acc: 0.5797\n",
      "Epoch 18/40\n",
      "21964/21964 [==============================] - 1s 42us/step - loss: 1.3456 - acc: 0.5851 - val_loss: 1.0070 - val_acc: 0.7050\n",
      "Epoch 19/40\n",
      "21964/21964 [==============================] - 1s 41us/step - loss: 1.3253 - acc: 0.5925 - val_loss: 0.9958 - val_acc: 0.7168\n",
      "Epoch 20/40\n",
      "21964/21964 [==============================] - 1s 42us/step - loss: 1.3127 - acc: 0.5980 - val_loss: 1.3642 - val_acc: 0.5828\n",
      "Epoch 21/40\n",
      "21964/21964 [==============================] - 1s 43us/step - loss: 1.2798 - acc: 0.6105 - val_loss: 1.3316 - val_acc: 0.5986\n",
      "Epoch 22/40\n",
      "21964/21964 [==============================] - 1s 43us/step - loss: 1.2756 - acc: 0.6141 - val_loss: 1.1080 - val_acc: 0.6813\n",
      "Epoch 23/40\n",
      "21964/21964 [==============================] - 1s 43us/step - loss: 1.2638 - acc: 0.6155 - val_loss: 1.2322 - val_acc: 0.6423\n",
      "Epoch 24/40\n",
      "21964/21964 [==============================] - 1s 43us/step - loss: 1.2417 - acc: 0.6251 - val_loss: 0.8349 - val_acc: 0.7968\n",
      "Epoch 25/40\n",
      "21964/21964 [==============================] - 1s 42us/step - loss: 1.2342 - acc: 0.6275 - val_loss: 1.1624 - val_acc: 0.6318\n",
      "Epoch 26/40\n",
      "21964/21964 [==============================] - 1s 43us/step - loss: 1.2288 - acc: 0.6331 - val_loss: 0.9594 - val_acc: 0.7172\n",
      "Epoch 27/40\n",
      "21964/21964 [==============================] - 1s 43us/step - loss: 1.2031 - acc: 0.6407 - val_loss: 0.8715 - val_acc: 0.7594\n",
      "Epoch 28/40\n",
      "21964/21964 [==============================] - 1s 46us/step - loss: 1.2050 - acc: 0.6452 - val_loss: 0.9405 - val_acc: 0.7354\n",
      "Epoch 29/40\n",
      "21964/21964 [==============================] - 1s 42us/step - loss: 1.1958 - acc: 0.6461 - val_loss: 1.2669 - val_acc: 0.5930\n",
      "Epoch 30/40\n",
      "21964/21964 [==============================] - 1s 43us/step - loss: 1.1807 - acc: 0.6517 - val_loss: 1.2265 - val_acc: 0.6325\n",
      "Epoch 31/40\n",
      "21964/21964 [==============================] - 1s 45us/step - loss: 1.1842 - acc: 0.6545 - val_loss: 1.0402 - val_acc: 0.7124\n",
      "Epoch 32/40\n",
      "21964/21964 [==============================] - 1s 44us/step - loss: 1.1737 - acc: 0.6590 - val_loss: 0.7651 - val_acc: 0.8121\n",
      "Epoch 33/40\n",
      "21964/21964 [==============================] - 1s 44us/step - loss: 1.1603 - acc: 0.6636 - val_loss: 0.9990 - val_acc: 0.7139\n",
      "Epoch 34/40\n",
      "21964/21964 [==============================] - 1s 44us/step - loss: 1.1560 - acc: 0.6640 - val_loss: 1.1714 - val_acc: 0.6538\n",
      "Epoch 35/40\n",
      "21964/21964 [==============================] - 1s 42us/step - loss: 1.1593 - acc: 0.6622 - val_loss: 1.2186 - val_acc: 0.6472\n",
      "Epoch 36/40\n",
      "21964/21964 [==============================] - 1s 42us/step - loss: 1.1339 - acc: 0.6767 - val_loss: 0.7142 - val_acc: 0.8301\n",
      "Epoch 37/40\n",
      "21964/21964 [==============================] - 1s 42us/step - loss: 1.1350 - acc: 0.6737 - val_loss: 1.1599 - val_acc: 0.6704\n",
      "Epoch 38/40\n",
      "21964/21964 [==============================] - 1s 43us/step - loss: 1.1197 - acc: 0.6778 - val_loss: 0.8242 - val_acc: 0.7691\n",
      "Epoch 39/40\n",
      "21964/21964 [==============================] - 1s 43us/step - loss: 1.1208 - acc: 0.6760 - val_loss: 0.9866 - val_acc: 0.7214\n",
      "Epoch 40/40\n",
      "21964/21964 [==============================] - 1s 46us/step - loss: 1.1161 - acc: 0.6809 - val_loss: 0.8925 - val_acc: 0.7607\n"
     ]
    }
   ],
   "source": [
    "history = model.fit(new_X_train, new_y_train, \n",
    "                    batch_size=64, epochs=40,\n",
    "                    validation_data=(X_val, y_val))"
   ]
  },
  {
   "cell_type": "markdown",
   "metadata": {},
   "source": [
    "## Loss and accuracy curves"
   ]
  },
  {
   "cell_type": "code",
   "execution_count": 54,
   "metadata": {},
   "outputs": [
    {
     "data": {
      "text/plain": [
       "dict_keys(['val_loss', 'val_acc', 'loss', 'acc'])"
      ]
     },
     "execution_count": 54,
     "metadata": {},
     "output_type": "execute_result"
    }
   ],
   "source": [
    "history_dict = history.history\n",
    "history_dict.keys()"
   ]
  },
  {
   "cell_type": "code",
   "execution_count": 55,
   "metadata": {},
   "outputs": [],
   "source": [
    "training_loss = history_dict['loss']\n",
    "validation_loss = history_dict['val_loss']\n",
    "\n",
    "training_acc = history_dict['acc']\n",
    "validation_acc = history_dict['val_acc']\n",
    "\n",
    "epochs = range(1, len(training_acc)+1)"
   ]
  },
  {
   "cell_type": "markdown",
   "metadata": {},
   "source": [
    "### Training and validation loss"
   ]
  },
  {
   "cell_type": "code",
   "execution_count": 56,
   "metadata": {},
   "outputs": [
    {
     "data": {
      "image/png": "[encoded data removed]",
      "text/plain": [
       "<Figure size 432x288 with 1 Axes>"
      ]
     },
     "metadata": {},
     "output_type": "display_data"
    }
   ],
   "source": [
    "plt.plot(epochs, training_loss, 'bo', label='Training loss')\n",
    "plt.plot(epochs, validation_loss, 'b', label='Validation loss')\n",
    "plt.title('Training and validation loss')\n",
    "plt.xlabel('Epochs')\n",
    "plt.ylabel('Loss')\n",
    "plt.legend()\n",
    "plt.show()"
   ]
  },
  {
   "cell_type": "markdown",
   "metadata": {},
   "source": [
    "### Training and validation accuracy"
   ]
  },
  {
   "cell_type": "code",
   "execution_count": 57,
   "metadata": {},
   "outputs": [
    {
     "data": {
      "image/png": "[encoded data removed]",
      "text/plain": [
       "<Figure size 432x288 with 1 Axes>"
      ]
     },
     "metadata": {},
     "output_type": "display_data"
    }
   ],
   "source": [
    "plt.clf()\n",
    "plt.plot(epochs, training_acc, 'bo', label='Training accuracy')\n",
    "plt.plot(epochs, validation_acc, 'b', label='Validation accuracy')\n",
    "plt.title('Training and validation accuracy')\n",
    "plt.xlabel('Epochs')\n",
    "plt.ylabel('Accuracy')\n",
    "plt.legend()\n",
    "plt.show()"
   ]
  },
  {
   "cell_type": "markdown",
   "metadata": {},
   "source": [
    "## Evaluate model on test set"
   ]
  },
  {
   "cell_type": "code",
   "execution_count": 58,
   "metadata": {},
   "outputs": [
    {
     "name": "stdout",
     "output_type": "stream",
     "text": [
      "7172/7172 [==============================] - 0s 22us/step\n"
     ]
    }
   ],
   "source": [
    "test_loss, test_acc = model.evaluate(X_test, y_test)"
   ]
  },
  {
   "cell_type": "code",
   "execution_count": 59,
   "metadata": {},
   "outputs": [
    {
     "data": {
      "text/plain": [
       "0.5877021751254881"
      ]
     },
     "execution_count": 59,
     "metadata": {},
     "output_type": "execute_result"
    }
   ],
   "source": [
    "test_acc"
   ]
  },
  {
   "cell_type": "code",
   "execution_count": null,
   "metadata": {},
   "outputs": [],
   "source": []
  },
  {
   "cell_type": "code",
   "execution_count": null,
   "metadata": {},
   "outputs": [],
   "source": []
  }
 ],
 "metadata": {
  "kernelspec": {
   "display_name": "Python 3",
   "language": "python",
   "name": "python3"
  },
  "language_info": {
   "codemirror_mode": {
    "name": "ipython",
    "version": 3
   },
   "file_extension": ".py",
   "mimetype": "text/x-python",
   "name": "python",
   "nbconvert_exporter": "python",
   "pygments_lexer": "ipython3",
   "version": "3.6.6"
  }
 },
 "nbformat": 4,
 "nbformat_minor": 2
}
